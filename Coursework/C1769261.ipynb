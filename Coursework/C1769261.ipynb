{
 "cells": [
  {
   "cell_type": "code",
   "execution_count": 6,
   "metadata": {},
   "outputs": [
    {
     "name": "stdout",
     "output_type": "stream",
     "text": [
      "Populating the interactive namespace from numpy and matplotlib\n"
     ]
    }
   ],
   "source": [
    "%pylab inline\n",
    "import pandas as pd\n",
    "import numpy as np\n",
    "import xlrd\n",
    "from pandas import Series, DataFrame\n",
    "from scipy import stats\n",
    "from sklearn.linear_model import LinearRegression\n",
    "import statsmodels.api as stm"
   ]
  },
  {
   "cell_type": "code",
   "execution_count": 2,
   "metadata": {},
   "outputs": [
    {
     "name": "stdout",
     "output_type": "stream",
     "text": [
      "            Years of Potential Life Lost Rate  Teen Birth Rate  \\\n",
      "County                                                           \n",
      "Alachua                                  6633               19   \n",
      "Baker                                    8270               58   \n",
      "Bay                                      9168               50   \n",
      "Bradford                                10346               61   \n",
      "Brevard                                  7722               25   \n",
      "...                                       ...              ...   \n",
      "Taylor                                   7875               64   \n",
      "Volusia                                  8295               32   \n",
      "Wakulla                                  7548               31   \n",
      "Walton                                   7962               45   \n",
      "Washington                               8390               54   \n",
      "\n",
      "            Violent Crime Rate  Percentage Smokers  \n",
      "County                                              \n",
      "Alachua                    579                  16  \n",
      "Baker                      360                  19  \n",
      "Bay                        508                  18  \n",
      "Bradford                   461                  18  \n",
      "Brevard                    518                  16  \n",
      "...                        ...                 ...  \n",
      "Taylor                     743                  18  \n",
      "Volusia                    426                  16  \n",
      "Wakulla                    272                  17  \n",
      "Walton                     374                  17  \n",
      "Washington                 236                  19  \n",
      "\n",
      "[66 rows x 4 columns]\n"
     ]
    }
   ],
   "source": [
    "#Cell 1 - 1 Mark\n",
    "\n",
    "#Read in the data\n",
    "df = pd.read_table('2017Health.txt',index_col='County')\n",
    "\n",
    "#Change order of the columns\n",
    "df = df[['Years of Potential Life Lost Rate','Teen Birth Rate','Violent Crime Rate','Percentage Smokers']]\n",
    "\n",
    "#Print out the table\n",
    "print(df)"
   ]
  },
  {
   "cell_type": "code",
   "execution_count": 3,
   "metadata": {},
   "outputs": [
    {
     "name": "stdout",
     "output_type": "stream",
     "text": [
      "Mean of percentage smokers: 16.9242\n",
      "Minimum of Percentage Smokers: 11\n",
      "Maximum of Percentage Smokers: 21\n",
      "Standard deviation of Percentage Smokers: 2.3879\n",
      "95% Confidence interval of Percentage Smokers \n",
      "is from 16.3372 to 17.5113\n"
     ]
    }
   ],
   "source": [
    "#Cell 2 - 5 Marks\n",
    "\n",
    "#Write the specific data to its own dataframe\n",
    "data = df['Percentage Smokers']\n",
    "\n",
    "#Calculates the Standard Deviation\n",
    "standard_deviation = data.std()\n",
    "\n",
    "#Calculates the confidence interval\n",
    "confidence_interval = (stats.bayes_mvs(data,0.95)[0][1])\n",
    "\n",
    "#Prints all values rounded to 2 decimal places can be changed here\n",
    "level_of_round = 4\n",
    "print('Mean of percentage smokers: %s' %(round(data.mean(),level_of_round)))\n",
    "print('Minimum of Percentage Smokers: %s' %data.min())\n",
    "print('Maximum of Percentage Smokers: %s' %data.max())\n",
    "print('Standard deviation of Percentage Smokers: %s' %(round(data.std(),level_of_round)))\n",
    "print('95%s Confidence interval of Percentage Smokers \\nis from %s to %s' %('%',round(confidence_interval[0],level_of_round),round(confidence_interval[1],level_of_round)))\n",
    "\n"
   ]
  },
  {
   "cell_type": "code",
   "execution_count": 9,
   "metadata": {},
   "outputs": [
    {
     "data": {
      "image/png": "[encoded data removed]",
      "text/plain": [
       "<Figure size 1440x720 with 1 Axes>"
      ]
     },
     "metadata": {
      "needs_background": "light"
     },
     "output_type": "display_data"
    },
    {
     "name": "stdout",
     "output_type": "stream",
     "text": [
      "[17, 16, 16, 14, 16]\n"
     ]
    }
   ],
   "source": [
    "#Cell 3 - 6 Marks\n",
    "\n",
    "\n",
    "\n",
    "PS_for_North   = [data['Duval'], data['Alachua'], data['Leon'], data['Flagler'], data['Marion']]\n",
    "PS_for_Central = [data['Orange'], data['Polk'], data['Hillsborough'], data['Pinellas'], data['Brevard']]\n",
    "PS_for_South   = [data['Miami-Dade'], data['Broward'], data['Lee'], data['Palm Beach'], data['Sarasota']]\n",
    "\n",
    "North_mean    = round(mean(PS_for_North),2)\n",
    "Central_mean  = round(mean(PS_for_North),2)\n",
    "South_mean    = round(mean(PS_for_North),2)\n",
    "\n",
    "North_error   = 1.96*std(PS_for_North)   / sqrt(len(PS_for_North))\n",
    "Central_error = 1.96*std(PS_for_Central) / sqrt(len(PS_for_Central))\n",
    "South_error   = 1.96*std(PS_for_South)   / sqrt(len(PS_for_South))\n",
    "\n",
    "figure(figsize(20,10))\n",
    "ind, width = [arange(3), 0.5]\n",
    "bar(ind, [North_mean, Central_mean, South_mean], width, color='r', yerr =[North_error, Central_error, South_error])\n",
    "ylabel('Percentage Smokers')\n",
    "\n",
    "xtickloc   = ind\n",
    "xticklabel = ['North Florida', 'Central Florida', 'South Florida']\n",
    "xticks(xtickloc, xticklabel, rotation = 'horizontal')\n",
    "title('Percentage Smokers in different Florida areas')\n",
    "ylim(min(data),max(data))\n",
    "show()\n",
    "\n",
    "\n",
    "\n",
    "\n",
    "print(PS_for_North)\n"
   ]
  },
  {
   "cell_type": "code",
   "execution_count": 16,
   "metadata": {},
   "outputs": [
    {
     "name": "stdout",
     "output_type": "stream",
     "text": [
      "                                    OLS Regression Results                                   \n",
      "=============================================================================================\n",
      "Dep. Variable:     Years of Potential Life Lost Rate   R-squared:                       1.000\n",
      "Model:                                           OLS   Adj. R-squared:                  1.000\n",
      "Method:                                Least Squares   F-statistic:                 1.110e+30\n",
      "Date:                               Thu, 05 Dec 2019   Prob (F-statistic):               0.00\n",
      "Time:                                       15:06:18   Log-Likelihood:                 1593.3\n",
      "No. Observations:                                 66   AIC:                            -3181.\n",
      "Df Residuals:                                     63   BIC:                            -3174.\n",
      "Df Model:                                          2                                         \n",
      "Covariance Type:                           nonrobust                                         \n",
      "=====================================================================================================\n",
      "                                        coef    std err          t      P>|t|      [0.025      0.975]\n",
      "-----------------------------------------------------------------------------------------------------\n",
      "const                             -1.251e-12   7.31e-12     -0.171      0.865   -1.59e-11    1.34e-11\n",
      "Years of Potential Life Lost Rate     1.0000   8.35e-16    1.2e+15      0.000       1.000       1.000\n",
      "Percentage Smokers                -2.913e-13   5.24e-13     -0.556      0.580   -1.34e-12    7.57e-13\n",
      "==============================================================================\n",
      "Omnibus:                       14.293   Durbin-Watson:                   0.041\n",
      "Prob(Omnibus):                  0.001   Jarque-Bera (JB):                4.776\n",
      "Skew:                          -0.350   Prob(JB):                       0.0918\n",
      "Kurtosis:                       1.883   Cond. No.                     5.83e+04\n",
      "==============================================================================\n",
      "\n",
      "Warnings:\n",
      "[1] Standard Errors assume that the covariance matrix of the errors is correctly specified.\n",
      "[2] The condition number is large, 5.83e+04. This might indicate that there are\n",
      "strong multicollinearity or other numerical problems.\n",
      "Y = 1.0 * TBR + -0.0 * PS + -0.0\n"
     ]
    }
   ],
   "source": [
    "#Cell 4 - 2 Marks\n",
    "\n",
    "years_lost = df[\"Years of Potential Life Lost Rate\"]\n",
    "years_lost_and_smoking = df[['Years of Potential Life Lost Rate', 'Percentage Smokers']]\n",
    "years_lost_and_smoking = stm.add_constant(years_lost_and_smoking)\n",
    "results = stm.OLS(years_lost, years_lost_and_smoking).fit()\n",
    "print(results.summary())\n",
    "c     = str(round(results.params[0],2))\n",
    "TBR_m = str(round(results.params[1],2))\n",
    "PS_m  = str(round(results.params[2],2))\n",
    "\n",
    "print(\"Y = %s * TBR + %s * PS + %s\" %(TBR_m,PS_m,c))\n"
   ]
  },
  {
   "cell_type": "code",
   "execution_count": null,
   "metadata": {},
   "outputs": [],
   "source": [
    "#Cell 5 - 6 Marks\n",
    "\n",
    "\n",
    "\n",
    "\n"
   ]
  },
  {
   "cell_type": "code",
   "execution_count": null,
   "metadata": {},
   "outputs": [],
   "source": []
  },
  {
   "cell_type": "code",
   "execution_count": null,
   "metadata": {},
   "outputs": [],
   "source": []
  },
  {
   "cell_type": "code",
   "execution_count": null,
   "metadata": {},
   "outputs": [],
   "source": []
  },
  {
   "cell_type": "code",
   "execution_count": null,
   "metadata": {},
   "outputs": [],
   "source": []
  },
  {
   "cell_type": "code",
   "execution_count": null,
   "metadata": {},
   "outputs": [],
   "source": []
  },
  {
   "cell_type": "code",
   "execution_count": null,
   "metadata": {},
   "outputs": [],
   "source": []
  },
  {
   "cell_type": "code",
   "execution_count": null,
   "metadata": {},
   "outputs": [],
   "source": []
  }
 ],
 "metadata": {
  "kernelspec": {
   "display_name": "Python 3",
   "language": "python",
   "name": "python3"
  },
  "language_info": {
   "codemirror_mode": {
    "name": "ipython",
    "version": 3
   },
   "file_extension": ".py",
   "mimetype": "text/x-python",
   "name": "python",
   "nbconvert_exporter": "python",
   "pygments_lexer": "ipython3",
   "version": "3.6.8"
  }
 },
 "nbformat": 4,
 "nbformat_minor": 2
}
